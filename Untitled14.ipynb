{
  "nbformat": 4,
  "nbformat_minor": 0,
  "metadata": {
    "colab": {
      "name": "Untitled14.ipynb",
      "provenance": [],
      "authorship_tag": "ABX9TyOFJLJYMrwlA8ssp3yHZo21",
      "include_colab_link": true
    },
    "kernelspec": {
      "name": "python3",
      "display_name": "Python 3"
    },
    "language_info": {
      "name": "python"
    }
  },
  "cells": [
    {
      "cell_type": "markdown",
      "metadata": {
        "id": "view-in-github",
        "colab_type": "text"
      },
      "source": [
        "<a href=\"https://colab.research.google.com/github/hiyoman/ai/blob/main/Untitled14.ipynb\" target=\"_parent\"><img src=\"https://colab.research.google.com/assets/colab-badge.svg\" alt=\"Open In Colab\"/></a>"
      ]
    },
    {
      "cell_type": "code",
      "metadata": {
        "id": "-SWuBLNpfyOs"
      },
      "source": [
        "from google.colab import files"
      ],
      "execution_count": 1,
      "outputs": []
    },
    {
      "cell_type": "code",
      "metadata": {
        "colab": {
          "resources": {
            "http://localhost:8080/nbextensions/google.colab/files.js": {
              "data": "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",
              "ok": true,
              "headers": [
                [
                  "content-type",
                  "application/javascript"
                ]
              ],
              "status": 200,
              "status_text": ""
            }
          },
          "base_uri": "https://localhost:8080/",
          "height": 41
        },
        "id": "ffD4GHnsf2eZ",
        "outputId": "c1ec2c78-3c35-456f-851b-8caf42002541"
      },
      "source": [
        "uploaded = files.upload()"
      ],
      "execution_count": null,
      "outputs": [
        {
          "output_type": "display_data",
          "data": {
            "text/html": [
              "\n",
              "     <input type=\"file\" id=\"files-bb8f7284-7b22-4783-a9a5-3187697161e7\" name=\"files[]\" multiple disabled\n",
              "        style=\"border:none\" />\n",
              "     <output id=\"result-bb8f7284-7b22-4783-a9a5-3187697161e7\">\n",
              "      Upload widget is only available when the cell has been executed in the\n",
              "      current browser session. Please rerun this cell to enable.\n",
              "      </output>\n",
              "      <script src=\"/nbextensions/google.colab/files.js\"></script> "
            ],
            "text/plain": [
              "<IPython.core.display.HTML object>"
            ]
          },
          "metadata": {
            "tags": []
          }
        }
      ]
    },
    {
      "cell_type": "code",
      "metadata": {
        "id": "mSrYo5Zlf3X4"
      },
      "source": [
        "import io\n",
        "import pandas as pd"
      ],
      "execution_count": null,
      "outputs": []
    },
    {
      "cell_type": "code",
      "metadata": {
        "id": "Jx47A-6BgFWl"
      },
      "source": [
        "import numpy as np"
      ],
      "execution_count": null,
      "outputs": []
    },
    {
      "cell_type": "code",
      "metadata": {
        "id": "RmZYGP24iarN"
      },
      "source": [
        "data = pd.read_csv(io.StringIO(uploaded['중앙선_죽령터널(노면온도).csv'].decode('cp949')))"
      ],
      "execution_count": null,
      "outputs": []
    },
    {
      "cell_type": "code",
      "metadata": {
        "colab": {
          "base_uri": "https://localhost:8080/",
          "height": 606
        },
        "id": "6Uu_6VDQifBR",
        "outputId": "86295096-4546-4738-9740-d389f34b0b73"
      },
      "source": [
        "data\n"
      ],
      "execution_count": null,
      "outputs": [
        {
          "output_type": "execute_result",
          "data": {
            "text/html": [
              "<div>\n",
              "<style scoped>\n",
              "    .dataframe tbody tr th:only-of-type {\n",
              "        vertical-align: middle;\n",
              "    }\n",
              "\n",
              "    .dataframe tbody tr th {\n",
              "        vertical-align: top;\n",
              "    }\n",
              "\n",
              "    .dataframe thead th {\n",
              "        text-align: right;\n",
              "    }\n",
              "</style>\n",
              "<table border=\"1\" class=\"dataframe\">\n",
              "  <thead>\n",
              "    <tr style=\"text-align: right;\">\n",
              "      <th></th>\n",
              "      <th>노선</th>\n",
              "      <th>위치</th>\n",
              "      <th>수집일시</th>\n",
              "      <th>노면온도</th>\n",
              "      <th>대기온도</th>\n",
              "      <th>습도</th>\n",
              "      <th>기압</th>\n",
              "      <th>풍속</th>\n",
              "      <th>시간강수량</th>\n",
              "      <th>6시간누적강수량</th>\n",
              "      <th>노면상태</th>\n",
              "      <th>도로살얼음실시간경보</th>\n",
              "    </tr>\n",
              "  </thead>\n",
              "  <tbody>\n",
              "    <tr>\n",
              "      <th>0</th>\n",
              "      <td>중앙선</td>\n",
              "      <td>238</td>\n",
              "      <td>2020-11-13 11:00</td>\n",
              "      <td>14.98761</td>\n",
              "      <td>9.8</td>\n",
              "      <td>42.4</td>\n",
              "      <td>981.7</td>\n",
              "      <td>2</td>\n",
              "      <td>0</td>\n",
              "      <td>0</td>\n",
              "      <td>Smp</td>\n",
              "      <td>관찰</td>\n",
              "    </tr>\n",
              "    <tr>\n",
              "      <th>1</th>\n",
              "      <td>중앙선</td>\n",
              "      <td>238</td>\n",
              "      <td>2020-11-13 12:00</td>\n",
              "      <td>19.23038</td>\n",
              "      <td>13</td>\n",
              "      <td>43</td>\n",
              "      <td>981</td>\n",
              "      <td>2.7</td>\n",
              "      <td>0</td>\n",
              "      <td>0</td>\n",
              "      <td>Dry</td>\n",
              "      <td>관찰</td>\n",
              "    </tr>\n",
              "    <tr>\n",
              "      <th>2</th>\n",
              "      <td>중앙선</td>\n",
              "      <td>238</td>\n",
              "      <td>2020-11-13 13:00</td>\n",
              "      <td>22.17194</td>\n",
              "      <td>13.8</td>\n",
              "      <td>44.2</td>\n",
              "      <td>980.2</td>\n",
              "      <td>2.4</td>\n",
              "      <td>0</td>\n",
              "      <td>0</td>\n",
              "      <td>Dry</td>\n",
              "      <td>관찰</td>\n",
              "    </tr>\n",
              "    <tr>\n",
              "      <th>3</th>\n",
              "      <td>중앙선</td>\n",
              "      <td>238</td>\n",
              "      <td>2020-11-13 14:00</td>\n",
              "      <td>23.22433</td>\n",
              "      <td>14.4</td>\n",
              "      <td>42.3</td>\n",
              "      <td>979.8</td>\n",
              "      <td>2.8</td>\n",
              "      <td>0</td>\n",
              "      <td>0</td>\n",
              "      <td>Dry</td>\n",
              "      <td>관찰</td>\n",
              "    </tr>\n",
              "    <tr>\n",
              "      <th>4</th>\n",
              "      <td>중앙선</td>\n",
              "      <td>238</td>\n",
              "      <td>2020-11-13 15:00</td>\n",
              "      <td>22.16589</td>\n",
              "      <td>14.6</td>\n",
              "      <td>43.9</td>\n",
              "      <td>979.5</td>\n",
              "      <td>1.3</td>\n",
              "      <td>0</td>\n",
              "      <td>0</td>\n",
              "      <td>Dry</td>\n",
              "      <td>관찰</td>\n",
              "    </tr>\n",
              "    <tr>\n",
              "      <th>...</th>\n",
              "      <td>...</td>\n",
              "      <td>...</td>\n",
              "      <td>...</td>\n",
              "      <td>...</td>\n",
              "      <td>...</td>\n",
              "      <td>...</td>\n",
              "      <td>...</td>\n",
              "      <td>...</td>\n",
              "      <td>...</td>\n",
              "      <td>...</td>\n",
              "      <td>...</td>\n",
              "      <td>...</td>\n",
              "    </tr>\n",
              "    <tr>\n",
              "      <th>3388</th>\n",
              "      <td>중앙선</td>\n",
              "      <td>238</td>\n",
              "      <td>2021-04-23 7:00</td>\n",
              "      <td>15.06131</td>\n",
              "      <td>15.1</td>\n",
              "      <td>21.6</td>\n",
              "      <td>974.7</td>\n",
              "      <td>1.1</td>\n",
              "      <td>0</td>\n",
              "      <td>0</td>\n",
              "      <td>Dry</td>\n",
              "      <td>관찰</td>\n",
              "    </tr>\n",
              "    <tr>\n",
              "      <th>3389</th>\n",
              "      <td>중앙선</td>\n",
              "      <td>238</td>\n",
              "      <td>2021-04-23 8:00</td>\n",
              "      <td>15.26759</td>\n",
              "      <td>14.6</td>\n",
              "      <td>25.5</td>\n",
              "      <td>975.7</td>\n",
              "      <td>1.7</td>\n",
              "      <td>0</td>\n",
              "      <td>0</td>\n",
              "      <td>Dry</td>\n",
              "      <td>관찰</td>\n",
              "    </tr>\n",
              "    <tr>\n",
              "      <th>3390</th>\n",
              "      <td>중앙선</td>\n",
              "      <td>238</td>\n",
              "      <td>2021-04-23 9:00</td>\n",
              "      <td>17.59327</td>\n",
              "      <td>15.3</td>\n",
              "      <td>25.2</td>\n",
              "      <td>975.9</td>\n",
              "      <td>3.8</td>\n",
              "      <td>0</td>\n",
              "      <td>0</td>\n",
              "      <td>Dry</td>\n",
              "      <td>관찰</td>\n",
              "    </tr>\n",
              "    <tr>\n",
              "      <th>3391</th>\n",
              "      <td>중앙선</td>\n",
              "      <td>238</td>\n",
              "      <td>2021-04-23 10:00</td>\n",
              "      <td>18.58636</td>\n",
              "      <td>15.3</td>\n",
              "      <td>27.5</td>\n",
              "      <td>975.7</td>\n",
              "      <td>1.8</td>\n",
              "      <td>0</td>\n",
              "      <td>0</td>\n",
              "      <td>Dry</td>\n",
              "      <td>관찰</td>\n",
              "    </tr>\n",
              "    <tr>\n",
              "      <th>3392</th>\n",
              "      <td>중앙선</td>\n",
              "      <td>238</td>\n",
              "      <td>2021-04-23 11:00</td>\n",
              "      <td>18.39429</td>\n",
              "      <td>0</td>\n",
              "      <td>27.2</td>\n",
              "      <td>975.1</td>\n",
              "      <td>1.2</td>\n",
              "      <td>0</td>\n",
              "      <td>0</td>\n",
              "      <td>Dry</td>\n",
              "      <td>관찰</td>\n",
              "    </tr>\n",
              "  </tbody>\n",
              "</table>\n",
              "<p>3393 rows × 12 columns</p>\n",
              "</div>"
            ],
            "text/plain": [
              "       노선   위치              수집일시      노면온도  ... 시간강수량 6시간누적강수량 노면상태 도로살얼음실시간경보\n",
              "0     중앙선  238  2020-11-13 11:00  14.98761  ...     0        0  Smp         관찰\n",
              "1     중앙선  238  2020-11-13 12:00  19.23038  ...     0        0  Dry         관찰\n",
              "2     중앙선  238  2020-11-13 13:00  22.17194  ...     0        0  Dry         관찰\n",
              "3     중앙선  238  2020-11-13 14:00  23.22433  ...     0        0  Dry         관찰\n",
              "4     중앙선  238  2020-11-13 15:00  22.16589  ...     0        0  Dry         관찰\n",
              "...   ...  ...               ...       ...  ...   ...      ...  ...        ...\n",
              "3388  중앙선  238   2021-04-23 7:00  15.06131  ...     0        0  Dry         관찰\n",
              "3389  중앙선  238   2021-04-23 8:00  15.26759  ...     0        0  Dry         관찰\n",
              "3390  중앙선  238   2021-04-23 9:00  17.59327  ...     0        0  Dry         관찰\n",
              "3391  중앙선  238  2021-04-23 10:00  18.58636  ...     0        0  Dry         관찰\n",
              "3392  중앙선  238  2021-04-23 11:00  18.39429  ...     0        0  Dry         관찰\n",
              "\n",
              "[3393 rows x 12 columns]"
            ]
          },
          "metadata": {
            "tags": []
          },
          "execution_count": 6
        }
      ]
    },
    {
      "cell_type": "code",
      "metadata": {
        "id": "pLPq57FanY3S"
      },
      "source": [
        "from sklearn.datasets import load_iris"
      ],
      "execution_count": null,
      "outputs": []
    },
    {
      "cell_type": "code",
      "metadata": {
        "id": "VRjGUoDLreNJ"
      },
      "source": [
        ""
      ],
      "execution_count": null,
      "outputs": []
    },
    {
      "cell_type": "code",
      "metadata": {
        "id": "Z-0F-dL-rM2k"
      },
      "source": [
        "import matplotlib"
      ],
      "execution_count": null,
      "outputs": []
    },
    {
      "cell_type": "code",
      "metadata": {
        "id": "vGi1cdvtrY-5"
      },
      "source": [
        "import matplotlib.pyplot as plt"
      ],
      "execution_count": null,
      "outputs": []
    },
    {
      "cell_type": "code",
      "metadata": {
        "id": "JVKbtoUGrb8o"
      },
      "source": [
        "import seaborn as sns"
      ],
      "execution_count": null,
      "outputs": []
    },
    {
      "cell_type": "code",
      "metadata": {
        "id": "YGG_JiVJr4Rh"
      },
      "source": [
        "try:\n",
        "  # %tensorflow_version only exists in Colab.\n",
        "  %tensorflow_version 2.x\n",
        "except Exception:\n",
        "  pass"
      ],
      "execution_count": null,
      "outputs": []
    },
    {
      "cell_type": "code",
      "metadata": {
        "colab": {
          "base_uri": "https://localhost:8080/"
        },
        "id": "jPMg4t01y51p",
        "outputId": "babb0259-0f0a-4f77-9e2b-e89cd2717294"
      },
      "source": [
        "from zlib import crc32\n",
        "\n",
        "def test_set_check(id, test_ratio):\n",
        "    return crc32(np.int64(id)) & 0xffffffff < test_ratio * 2**32\n",
        "\n",
        "def split_train_test_by_id(data, test_ratio, id_column):\n",
        "    ids = data[id_column]\n",
        "    in_test_set = ids.apply(lambda id_: test_set_check(id_, test_ratio))\n",
        "    return data.loc[~in_test_set], data.loc[in_test_set]\n",
        "\n",
        "# 승객 ID를 식별자로 사용했습니다.\n",
        "train_set, test_set = split_train_test_by_id(data, 0.2, \"노면온도\")\n",
        "\n",
        "print(len(train_set), len(test_set))"
      ],
      "execution_count": null,
      "outputs": [
        {
          "output_type": "stream",
          "text": [
            "2725 668\n"
          ],
          "name": "stdout"
        }
      ]
    },
    {
      "cell_type": "code",
      "metadata": {
        "colab": {
          "base_uri": "https://localhost:8080/"
        },
        "id": "GJhlbzrDzLTF",
        "outputId": "f5fb9ae7-0bea-450b-a905-35c574f805b2"
      },
      "source": [
        "from sklearn.model_selection import train_test_split\n",
        "\n",
        "train_set, test_set = train_test_split(data, test_size=0.2, random_state=1006)\n",
        "\n",
        "print(len(train_set), len(test_set))"
      ],
      "execution_count": null,
      "outputs": [
        {
          "output_type": "stream",
          "text": [
            "2714 679\n"
          ],
          "name": "stdout"
        }
      ]
    },
    {
      "cell_type": "code",
      "metadata": {
        "colab": {
          "base_uri": "https://localhost:8080/",
          "height": 606
        },
        "id": "6mkSbd0ezUT9",
        "outputId": "e0b9b78e-fd7d-4f2a-e583-f045e5a23097"
      },
      "source": [
        "data"
      ],
      "execution_count": null,
      "outputs": [
        {
          "output_type": "execute_result",
          "data": {
            "text/html": [
              "<div>\n",
              "<style scoped>\n",
              "    .dataframe tbody tr th:only-of-type {\n",
              "        vertical-align: middle;\n",
              "    }\n",
              "\n",
              "    .dataframe tbody tr th {\n",
              "        vertical-align: top;\n",
              "    }\n",
              "\n",
              "    .dataframe thead th {\n",
              "        text-align: right;\n",
              "    }\n",
              "</style>\n",
              "<table border=\"1\" class=\"dataframe\">\n",
              "  <thead>\n",
              "    <tr style=\"text-align: right;\">\n",
              "      <th></th>\n",
              "      <th>노선</th>\n",
              "      <th>위치</th>\n",
              "      <th>수집일시</th>\n",
              "      <th>노면온도</th>\n",
              "      <th>대기온도</th>\n",
              "      <th>습도</th>\n",
              "      <th>기압</th>\n",
              "      <th>풍속</th>\n",
              "      <th>시간강수량</th>\n",
              "      <th>6시간누적강수량</th>\n",
              "      <th>노면상태</th>\n",
              "      <th>도로살얼음실시간경보</th>\n",
              "    </tr>\n",
              "  </thead>\n",
              "  <tbody>\n",
              "    <tr>\n",
              "      <th>0</th>\n",
              "      <td>중앙선</td>\n",
              "      <td>238</td>\n",
              "      <td>2020-11-13 11:00</td>\n",
              "      <td>14.98761</td>\n",
              "      <td>9.8</td>\n",
              "      <td>42.4</td>\n",
              "      <td>981.7</td>\n",
              "      <td>2</td>\n",
              "      <td>0</td>\n",
              "      <td>0</td>\n",
              "      <td>Smp</td>\n",
              "      <td>관찰</td>\n",
              "    </tr>\n",
              "    <tr>\n",
              "      <th>1</th>\n",
              "      <td>중앙선</td>\n",
              "      <td>238</td>\n",
              "      <td>2020-11-13 12:00</td>\n",
              "      <td>19.23038</td>\n",
              "      <td>13</td>\n",
              "      <td>43</td>\n",
              "      <td>981</td>\n",
              "      <td>2.7</td>\n",
              "      <td>0</td>\n",
              "      <td>0</td>\n",
              "      <td>Dry</td>\n",
              "      <td>관찰</td>\n",
              "    </tr>\n",
              "    <tr>\n",
              "      <th>2</th>\n",
              "      <td>중앙선</td>\n",
              "      <td>238</td>\n",
              "      <td>2020-11-13 13:00</td>\n",
              "      <td>22.17194</td>\n",
              "      <td>13.8</td>\n",
              "      <td>44.2</td>\n",
              "      <td>980.2</td>\n",
              "      <td>2.4</td>\n",
              "      <td>0</td>\n",
              "      <td>0</td>\n",
              "      <td>Dry</td>\n",
              "      <td>관찰</td>\n",
              "    </tr>\n",
              "    <tr>\n",
              "      <th>3</th>\n",
              "      <td>중앙선</td>\n",
              "      <td>238</td>\n",
              "      <td>2020-11-13 14:00</td>\n",
              "      <td>23.22433</td>\n",
              "      <td>14.4</td>\n",
              "      <td>42.3</td>\n",
              "      <td>979.8</td>\n",
              "      <td>2.8</td>\n",
              "      <td>0</td>\n",
              "      <td>0</td>\n",
              "      <td>Dry</td>\n",
              "      <td>관찰</td>\n",
              "    </tr>\n",
              "    <tr>\n",
              "      <th>4</th>\n",
              "      <td>중앙선</td>\n",
              "      <td>238</td>\n",
              "      <td>2020-11-13 15:00</td>\n",
              "      <td>22.16589</td>\n",
              "      <td>14.6</td>\n",
              "      <td>43.9</td>\n",
              "      <td>979.5</td>\n",
              "      <td>1.3</td>\n",
              "      <td>0</td>\n",
              "      <td>0</td>\n",
              "      <td>Dry</td>\n",
              "      <td>관찰</td>\n",
              "    </tr>\n",
              "    <tr>\n",
              "      <th>...</th>\n",
              "      <td>...</td>\n",
              "      <td>...</td>\n",
              "      <td>...</td>\n",
              "      <td>...</td>\n",
              "      <td>...</td>\n",
              "      <td>...</td>\n",
              "      <td>...</td>\n",
              "      <td>...</td>\n",
              "      <td>...</td>\n",
              "      <td>...</td>\n",
              "      <td>...</td>\n",
              "      <td>...</td>\n",
              "    </tr>\n",
              "    <tr>\n",
              "      <th>3388</th>\n",
              "      <td>중앙선</td>\n",
              "      <td>238</td>\n",
              "      <td>2021-04-23 7:00</td>\n",
              "      <td>15.06131</td>\n",
              "      <td>15.1</td>\n",
              "      <td>21.6</td>\n",
              "      <td>974.7</td>\n",
              "      <td>1.1</td>\n",
              "      <td>0</td>\n",
              "      <td>0</td>\n",
              "      <td>Dry</td>\n",
              "      <td>관찰</td>\n",
              "    </tr>\n",
              "    <tr>\n",
              "      <th>3389</th>\n",
              "      <td>중앙선</td>\n",
              "      <td>238</td>\n",
              "      <td>2021-04-23 8:00</td>\n",
              "      <td>15.26759</td>\n",
              "      <td>14.6</td>\n",
              "      <td>25.5</td>\n",
              "      <td>975.7</td>\n",
              "      <td>1.7</td>\n",
              "      <td>0</td>\n",
              "      <td>0</td>\n",
              "      <td>Dry</td>\n",
              "      <td>관찰</td>\n",
              "    </tr>\n",
              "    <tr>\n",
              "      <th>3390</th>\n",
              "      <td>중앙선</td>\n",
              "      <td>238</td>\n",
              "      <td>2021-04-23 9:00</td>\n",
              "      <td>17.59327</td>\n",
              "      <td>15.3</td>\n",
              "      <td>25.2</td>\n",
              "      <td>975.9</td>\n",
              "      <td>3.8</td>\n",
              "      <td>0</td>\n",
              "      <td>0</td>\n",
              "      <td>Dry</td>\n",
              "      <td>관찰</td>\n",
              "    </tr>\n",
              "    <tr>\n",
              "      <th>3391</th>\n",
              "      <td>중앙선</td>\n",
              "      <td>238</td>\n",
              "      <td>2021-04-23 10:00</td>\n",
              "      <td>18.58636</td>\n",
              "      <td>15.3</td>\n",
              "      <td>27.5</td>\n",
              "      <td>975.7</td>\n",
              "      <td>1.8</td>\n",
              "      <td>0</td>\n",
              "      <td>0</td>\n",
              "      <td>Dry</td>\n",
              "      <td>관찰</td>\n",
              "    </tr>\n",
              "    <tr>\n",
              "      <th>3392</th>\n",
              "      <td>중앙선</td>\n",
              "      <td>238</td>\n",
              "      <td>2021-04-23 11:00</td>\n",
              "      <td>18.39429</td>\n",
              "      <td>0</td>\n",
              "      <td>27.2</td>\n",
              "      <td>975.1</td>\n",
              "      <td>1.2</td>\n",
              "      <td>0</td>\n",
              "      <td>0</td>\n",
              "      <td>Dry</td>\n",
              "      <td>관찰</td>\n",
              "    </tr>\n",
              "  </tbody>\n",
              "</table>\n",
              "<p>3393 rows × 12 columns</p>\n",
              "</div>"
            ],
            "text/plain": [
              "       노선   위치              수집일시      노면온도  ... 시간강수량 6시간누적강수량 노면상태 도로살얼음실시간경보\n",
              "0     중앙선  238  2020-11-13 11:00  14.98761  ...     0        0  Smp         관찰\n",
              "1     중앙선  238  2020-11-13 12:00  19.23038  ...     0        0  Dry         관찰\n",
              "2     중앙선  238  2020-11-13 13:00  22.17194  ...     0        0  Dry         관찰\n",
              "3     중앙선  238  2020-11-13 14:00  23.22433  ...     0        0  Dry         관찰\n",
              "4     중앙선  238  2020-11-13 15:00  22.16589  ...     0        0  Dry         관찰\n",
              "...   ...  ...               ...       ...  ...   ...      ...  ...        ...\n",
              "3388  중앙선  238   2021-04-23 7:00  15.06131  ...     0        0  Dry         관찰\n",
              "3389  중앙선  238   2021-04-23 8:00  15.26759  ...     0        0  Dry         관찰\n",
              "3390  중앙선  238   2021-04-23 9:00  17.59327  ...     0        0  Dry         관찰\n",
              "3391  중앙선  238  2021-04-23 10:00  18.58636  ...     0        0  Dry         관찰\n",
              "3392  중앙선  238  2021-04-23 11:00  18.39429  ...     0        0  Dry         관찰\n",
              "\n",
              "[3393 rows x 12 columns]"
            ]
          },
          "metadata": {
            "tags": []
          },
          "execution_count": 14
        }
      ]
    },
    {
      "cell_type": "code",
      "metadata": {
        "id": "Rxct_ST81Mof"
      },
      "source": [
        "data = data.drop"
      ],
      "execution_count": null,
      "outputs": []
    },
    {
      "cell_type": "code",
      "metadata": {
        "id": "HgnZSs-x5qzh"
      },
      "source": [
        "data = data.drop(['노선','위치','대기온도','시간강수량','도로살얼음실시간경보'], axis = 1)"
      ],
      "execution_count": null,
      "outputs": []
    },
    {
      "cell_type": "code",
      "metadata": {
        "colab": {
          "base_uri": "https://localhost:8080/",
          "height": 419
        },
        "id": "FSBDd1KM8GiX",
        "outputId": "e73d5802-2248-4e45-e5f3-c98681d727bb"
      },
      "source": [
        "data"
      ],
      "execution_count": null,
      "outputs": [
        {
          "output_type": "execute_result",
          "data": {
            "text/html": [
              "<div>\n",
              "<style scoped>\n",
              "    .dataframe tbody tr th:only-of-type {\n",
              "        vertical-align: middle;\n",
              "    }\n",
              "\n",
              "    .dataframe tbody tr th {\n",
              "        vertical-align: top;\n",
              "    }\n",
              "\n",
              "    .dataframe thead th {\n",
              "        text-align: right;\n",
              "    }\n",
              "</style>\n",
              "<table border=\"1\" class=\"dataframe\">\n",
              "  <thead>\n",
              "    <tr style=\"text-align: right;\">\n",
              "      <th></th>\n",
              "      <th>수집일시</th>\n",
              "      <th>노면온도</th>\n",
              "      <th>습도</th>\n",
              "      <th>기압</th>\n",
              "      <th>풍속</th>\n",
              "      <th>6시간누적강수량</th>\n",
              "      <th>노면상태</th>\n",
              "    </tr>\n",
              "  </thead>\n",
              "  <tbody>\n",
              "    <tr>\n",
              "      <th>0</th>\n",
              "      <td>2020-11-13 11:00</td>\n",
              "      <td>14.98761</td>\n",
              "      <td>42.4</td>\n",
              "      <td>981.7</td>\n",
              "      <td>2</td>\n",
              "      <td>0</td>\n",
              "      <td>Smp</td>\n",
              "    </tr>\n",
              "    <tr>\n",
              "      <th>1</th>\n",
              "      <td>2020-11-13 12:00</td>\n",
              "      <td>19.23038</td>\n",
              "      <td>43</td>\n",
              "      <td>981</td>\n",
              "      <td>2.7</td>\n",
              "      <td>0</td>\n",
              "      <td>Dry</td>\n",
              "    </tr>\n",
              "    <tr>\n",
              "      <th>2</th>\n",
              "      <td>2020-11-13 13:00</td>\n",
              "      <td>22.17194</td>\n",
              "      <td>44.2</td>\n",
              "      <td>980.2</td>\n",
              "      <td>2.4</td>\n",
              "      <td>0</td>\n",
              "      <td>Dry</td>\n",
              "    </tr>\n",
              "    <tr>\n",
              "      <th>3</th>\n",
              "      <td>2020-11-13 14:00</td>\n",
              "      <td>23.22433</td>\n",
              "      <td>42.3</td>\n",
              "      <td>979.8</td>\n",
              "      <td>2.8</td>\n",
              "      <td>0</td>\n",
              "      <td>Dry</td>\n",
              "    </tr>\n",
              "    <tr>\n",
              "      <th>4</th>\n",
              "      <td>2020-11-13 15:00</td>\n",
              "      <td>22.16589</td>\n",
              "      <td>43.9</td>\n",
              "      <td>979.5</td>\n",
              "      <td>1.3</td>\n",
              "      <td>0</td>\n",
              "      <td>Dry</td>\n",
              "    </tr>\n",
              "    <tr>\n",
              "      <th>...</th>\n",
              "      <td>...</td>\n",
              "      <td>...</td>\n",
              "      <td>...</td>\n",
              "      <td>...</td>\n",
              "      <td>...</td>\n",
              "      <td>...</td>\n",
              "      <td>...</td>\n",
              "    </tr>\n",
              "    <tr>\n",
              "      <th>3388</th>\n",
              "      <td>2021-04-23 7:00</td>\n",
              "      <td>15.06131</td>\n",
              "      <td>21.6</td>\n",
              "      <td>974.7</td>\n",
              "      <td>1.1</td>\n",
              "      <td>0</td>\n",
              "      <td>Dry</td>\n",
              "    </tr>\n",
              "    <tr>\n",
              "      <th>3389</th>\n",
              "      <td>2021-04-23 8:00</td>\n",
              "      <td>15.26759</td>\n",
              "      <td>25.5</td>\n",
              "      <td>975.7</td>\n",
              "      <td>1.7</td>\n",
              "      <td>0</td>\n",
              "      <td>Dry</td>\n",
              "    </tr>\n",
              "    <tr>\n",
              "      <th>3390</th>\n",
              "      <td>2021-04-23 9:00</td>\n",
              "      <td>17.59327</td>\n",
              "      <td>25.2</td>\n",
              "      <td>975.9</td>\n",
              "      <td>3.8</td>\n",
              "      <td>0</td>\n",
              "      <td>Dry</td>\n",
              "    </tr>\n",
              "    <tr>\n",
              "      <th>3391</th>\n",
              "      <td>2021-04-23 10:00</td>\n",
              "      <td>18.58636</td>\n",
              "      <td>27.5</td>\n",
              "      <td>975.7</td>\n",
              "      <td>1.8</td>\n",
              "      <td>0</td>\n",
              "      <td>Dry</td>\n",
              "    </tr>\n",
              "    <tr>\n",
              "      <th>3392</th>\n",
              "      <td>2021-04-23 11:00</td>\n",
              "      <td>18.39429</td>\n",
              "      <td>27.2</td>\n",
              "      <td>975.1</td>\n",
              "      <td>1.2</td>\n",
              "      <td>0</td>\n",
              "      <td>Dry</td>\n",
              "    </tr>\n",
              "  </tbody>\n",
              "</table>\n",
              "<p>3393 rows × 7 columns</p>\n",
              "</div>"
            ],
            "text/plain": [
              "                  수집일시      노면온도    습도     기압   풍속 6시간누적강수량 노면상태\n",
              "0     2020-11-13 11:00  14.98761  42.4  981.7    2        0  Smp\n",
              "1     2020-11-13 12:00  19.23038    43    981  2.7        0  Dry\n",
              "2     2020-11-13 13:00  22.17194  44.2  980.2  2.4        0  Dry\n",
              "3     2020-11-13 14:00  23.22433  42.3  979.8  2.8        0  Dry\n",
              "4     2020-11-13 15:00  22.16589  43.9  979.5  1.3        0  Dry\n",
              "...                ...       ...   ...    ...  ...      ...  ...\n",
              "3388   2021-04-23 7:00  15.06131  21.6  974.7  1.1        0  Dry\n",
              "3389   2021-04-23 8:00  15.26759  25.5  975.7  1.7        0  Dry\n",
              "3390   2021-04-23 9:00  17.59327  25.2  975.9  3.8        0  Dry\n",
              "3391  2021-04-23 10:00  18.58636  27.5  975.7  1.8        0  Dry\n",
              "3392  2021-04-23 11:00  18.39429  27.2  975.1  1.2        0  Dry\n",
              "\n",
              "[3393 rows x 7 columns]"
            ]
          },
          "metadata": {
            "tags": []
          },
          "execution_count": 16
        }
      ]
    },
    {
      "cell_type": "code",
      "metadata": {
        "id": "M_T2zwsx_EqQ"
      },
      "source": [
        "target = data.노면상태"
      ],
      "execution_count": null,
      "outputs": []
    },
    {
      "cell_type": "code",
      "metadata": {
        "id": "HxBICxwi_v0o"
      },
      "source": [
        "target = data['노면상태']"
      ],
      "execution_count": null,
      "outputs": []
    },
    {
      "cell_type": "code",
      "metadata": {
        "colab": {
          "base_uri": "https://localhost:8080/"
        },
        "id": "xeJ_Y_dX_7cL",
        "outputId": "dc11d170-1296-44c5-9329-affcbbeb2819"
      },
      "source": [
        "target"
      ],
      "execution_count": null,
      "outputs": [
        {
          "output_type": "execute_result",
          "data": {
            "text/plain": [
              "0       Smp\n",
              "1       Dry\n",
              "2       Dry\n",
              "3       Dry\n",
              "4       Dry\n",
              "       ... \n",
              "3388    Dry\n",
              "3389    Dry\n",
              "3390    Dry\n",
              "3391    Dry\n",
              "3392    Dry\n",
              "Name: 노면상태, Length: 3393, dtype: object"
            ]
          },
          "metadata": {
            "tags": []
          },
          "execution_count": 19
        }
      ]
    },
    {
      "cell_type": "code",
      "metadata": {
        "id": "QoMmXbyHAOj2"
      },
      "source": [
        "X_train, X_test, y_train, y_test = train_test_split(data, target, test_size=0.3, random_state=1)"
      ],
      "execution_count": null,
      "outputs": []
    },
    {
      "cell_type": "code",
      "metadata": {
        "id": "4br4OqC1BC0h"
      },
      "source": [
        ""
      ],
      "execution_count": null,
      "outputs": []
    },
    {
      "cell_type": "code",
      "metadata": {
        "id": "aCOwfolxARfB"
      },
      "source": [
        "data = data.drop('노면상태', axis = 1)"
      ],
      "execution_count": null,
      "outputs": []
    },
    {
      "cell_type": "code",
      "metadata": {
        "colab": {
          "base_uri": "https://localhost:8080/",
          "height": 419
        },
        "id": "eFxCtFbcAihU",
        "outputId": "5c555c19-90b0-4664-e100-0e0d0f18f37f"
      },
      "source": [
        "data"
      ],
      "execution_count": null,
      "outputs": [
        {
          "output_type": "execute_result",
          "data": {
            "text/html": [
              "<div>\n",
              "<style scoped>\n",
              "    .dataframe tbody tr th:only-of-type {\n",
              "        vertical-align: middle;\n",
              "    }\n",
              "\n",
              "    .dataframe tbody tr th {\n",
              "        vertical-align: top;\n",
              "    }\n",
              "\n",
              "    .dataframe thead th {\n",
              "        text-align: right;\n",
              "    }\n",
              "</style>\n",
              "<table border=\"1\" class=\"dataframe\">\n",
              "  <thead>\n",
              "    <tr style=\"text-align: right;\">\n",
              "      <th></th>\n",
              "      <th>수집일시</th>\n",
              "      <th>노면온도</th>\n",
              "      <th>습도</th>\n",
              "      <th>기압</th>\n",
              "      <th>풍속</th>\n",
              "      <th>6시간누적강수량</th>\n",
              "    </tr>\n",
              "  </thead>\n",
              "  <tbody>\n",
              "    <tr>\n",
              "      <th>0</th>\n",
              "      <td>2020-11-13 11:00</td>\n",
              "      <td>14.98761</td>\n",
              "      <td>42.4</td>\n",
              "      <td>981.7</td>\n",
              "      <td>2</td>\n",
              "      <td>0</td>\n",
              "    </tr>\n",
              "    <tr>\n",
              "      <th>1</th>\n",
              "      <td>2020-11-13 12:00</td>\n",
              "      <td>19.23038</td>\n",
              "      <td>43</td>\n",
              "      <td>981</td>\n",
              "      <td>2.7</td>\n",
              "      <td>0</td>\n",
              "    </tr>\n",
              "    <tr>\n",
              "      <th>2</th>\n",
              "      <td>2020-11-13 13:00</td>\n",
              "      <td>22.17194</td>\n",
              "      <td>44.2</td>\n",
              "      <td>980.2</td>\n",
              "      <td>2.4</td>\n",
              "      <td>0</td>\n",
              "    </tr>\n",
              "    <tr>\n",
              "      <th>3</th>\n",
              "      <td>2020-11-13 14:00</td>\n",
              "      <td>23.22433</td>\n",
              "      <td>42.3</td>\n",
              "      <td>979.8</td>\n",
              "      <td>2.8</td>\n",
              "      <td>0</td>\n",
              "    </tr>\n",
              "    <tr>\n",
              "      <th>4</th>\n",
              "      <td>2020-11-13 15:00</td>\n",
              "      <td>22.16589</td>\n",
              "      <td>43.9</td>\n",
              "      <td>979.5</td>\n",
              "      <td>1.3</td>\n",
              "      <td>0</td>\n",
              "    </tr>\n",
              "    <tr>\n",
              "      <th>...</th>\n",
              "      <td>...</td>\n",
              "      <td>...</td>\n",
              "      <td>...</td>\n",
              "      <td>...</td>\n",
              "      <td>...</td>\n",
              "      <td>...</td>\n",
              "    </tr>\n",
              "    <tr>\n",
              "      <th>3388</th>\n",
              "      <td>2021-04-23 7:00</td>\n",
              "      <td>15.06131</td>\n",
              "      <td>21.6</td>\n",
              "      <td>974.7</td>\n",
              "      <td>1.1</td>\n",
              "      <td>0</td>\n",
              "    </tr>\n",
              "    <tr>\n",
              "      <th>3389</th>\n",
              "      <td>2021-04-23 8:00</td>\n",
              "      <td>15.26759</td>\n",
              "      <td>25.5</td>\n",
              "      <td>975.7</td>\n",
              "      <td>1.7</td>\n",
              "      <td>0</td>\n",
              "    </tr>\n",
              "    <tr>\n",
              "      <th>3390</th>\n",
              "      <td>2021-04-23 9:00</td>\n",
              "      <td>17.59327</td>\n",
              "      <td>25.2</td>\n",
              "      <td>975.9</td>\n",
              "      <td>3.8</td>\n",
              "      <td>0</td>\n",
              "    </tr>\n",
              "    <tr>\n",
              "      <th>3391</th>\n",
              "      <td>2021-04-23 10:00</td>\n",
              "      <td>18.58636</td>\n",
              "      <td>27.5</td>\n",
              "      <td>975.7</td>\n",
              "      <td>1.8</td>\n",
              "      <td>0</td>\n",
              "    </tr>\n",
              "    <tr>\n",
              "      <th>3392</th>\n",
              "      <td>2021-04-23 11:00</td>\n",
              "      <td>18.39429</td>\n",
              "      <td>27.2</td>\n",
              "      <td>975.1</td>\n",
              "      <td>1.2</td>\n",
              "      <td>0</td>\n",
              "    </tr>\n",
              "  </tbody>\n",
              "</table>\n",
              "<p>3393 rows × 6 columns</p>\n",
              "</div>"
            ],
            "text/plain": [
              "                  수집일시      노면온도    습도     기압   풍속 6시간누적강수량\n",
              "0     2020-11-13 11:00  14.98761  42.4  981.7    2        0\n",
              "1     2020-11-13 12:00  19.23038    43    981  2.7        0\n",
              "2     2020-11-13 13:00  22.17194  44.2  980.2  2.4        0\n",
              "3     2020-11-13 14:00  23.22433  42.3  979.8  2.8        0\n",
              "4     2020-11-13 15:00  22.16589  43.9  979.5  1.3        0\n",
              "...                ...       ...   ...    ...  ...      ...\n",
              "3388   2021-04-23 7:00  15.06131  21.6  974.7  1.1        0\n",
              "3389   2021-04-23 8:00  15.26759  25.5  975.7  1.7        0\n",
              "3390   2021-04-23 9:00  17.59327  25.2  975.9  3.8        0\n",
              "3391  2021-04-23 10:00  18.58636  27.5  975.7  1.8        0\n",
              "3392  2021-04-23 11:00  18.39429  27.2  975.1  1.2        0\n",
              "\n",
              "[3393 rows x 6 columns]"
            ]
          },
          "metadata": {
            "tags": []
          },
          "execution_count": 22
        }
      ]
    },
    {
      "cell_type": "code",
      "metadata": {
        "id": "mR37NIptAmY-"
      },
      "source": [
        "X_train, X_test, y_train, y_test = train_test_split(data, target, test_size=0.3, random_state=1)"
      ],
      "execution_count": null,
      "outputs": []
    },
    {
      "cell_type": "code",
      "metadata": {
        "colab": {
          "base_uri": "https://localhost:8080/",
          "height": 419
        },
        "id": "EBdIYbKFAoAy",
        "outputId": "e5fc304e-2d99-49f8-9eec-7346e8f88cc6"
      },
      "source": [
        "X_test"
      ],
      "execution_count": null,
      "outputs": [
        {
          "output_type": "execute_result",
          "data": {
            "text/html": [
              "<div>\n",
              "<style scoped>\n",
              "    .dataframe tbody tr th:only-of-type {\n",
              "        vertical-align: middle;\n",
              "    }\n",
              "\n",
              "    .dataframe tbody tr th {\n",
              "        vertical-align: top;\n",
              "    }\n",
              "\n",
              "    .dataframe thead th {\n",
              "        text-align: right;\n",
              "    }\n",
              "</style>\n",
              "<table border=\"1\" class=\"dataframe\">\n",
              "  <thead>\n",
              "    <tr style=\"text-align: right;\">\n",
              "      <th></th>\n",
              "      <th>수집일시</th>\n",
              "      <th>노면온도</th>\n",
              "      <th>습도</th>\n",
              "      <th>기압</th>\n",
              "      <th>풍속</th>\n",
              "      <th>6시간누적강수량</th>\n",
              "    </tr>\n",
              "  </thead>\n",
              "  <tbody>\n",
              "    <tr>\n",
              "      <th>1664</th>\n",
              "      <td>2021-02-10 11:00</td>\n",
              "      <td>3.936000</td>\n",
              "      <td>58</td>\n",
              "      <td>977.1</td>\n",
              "      <td>2.6</td>\n",
              "      <td>0</td>\n",
              "    </tr>\n",
              "    <tr>\n",
              "      <th>913</th>\n",
              "      <td>2020-12-21 12:00</td>\n",
              "      <td>4.416623</td>\n",
              "      <td>40.9</td>\n",
              "      <td>980.1</td>\n",
              "      <td>3.2</td>\n",
              "      <td>0</td>\n",
              "    </tr>\n",
              "    <tr>\n",
              "      <th>2576</th>\n",
              "      <td>2021-03-20 11:00</td>\n",
              "      <td>9.609576</td>\n",
              "      <td>74.3</td>\n",
              "      <td>966.3</td>\n",
              "      <td>0.3</td>\n",
              "      <td>0.4399998</td>\n",
              "    </tr>\n",
              "    <tr>\n",
              "      <th>255</th>\n",
              "      <td>2020-11-24 2:00</td>\n",
              "      <td>1.003157</td>\n",
              "      <td>71.1</td>\n",
              "      <td>979.7</td>\n",
              "      <td>0.8</td>\n",
              "      <td>0</td>\n",
              "    </tr>\n",
              "    <tr>\n",
              "      <th>2045</th>\n",
              "      <td>2021-02-26 8:00</td>\n",
              "      <td>-1.054753</td>\n",
              "      <td>70.2</td>\n",
              "      <td>976.8</td>\n",
              "      <td>0.9</td>\n",
              "      <td>0</td>\n",
              "    </tr>\n",
              "    <tr>\n",
              "      <th>...</th>\n",
              "      <td>...</td>\n",
              "      <td>...</td>\n",
              "      <td>...</td>\n",
              "      <td>...</td>\n",
              "      <td>...</td>\n",
              "      <td>...</td>\n",
              "    </tr>\n",
              "    <tr>\n",
              "      <th>32</th>\n",
              "      <td>2020-11-14 19:00</td>\n",
              "      <td>13.146360</td>\n",
              "      <td>50.7</td>\n",
              "      <td>982</td>\n",
              "      <td>1.5</td>\n",
              "      <td>0</td>\n",
              "    </tr>\n",
              "    <tr>\n",
              "      <th>199</th>\n",
              "      <td>2020-11-21 18:00</td>\n",
              "      <td>9.715533</td>\n",
              "      <td>61.3</td>\n",
              "      <td>976.4</td>\n",
              "      <td>2.2</td>\n",
              "      <td>0</td>\n",
              "    </tr>\n",
              "    <tr>\n",
              "      <th>1396</th>\n",
              "      <td>2021-01-30 7:00</td>\n",
              "      <td>-5.559608</td>\n",
              "      <td>52.7</td>\n",
              "      <td>975.8</td>\n",
              "      <td>0.4</td>\n",
              "      <td>0</td>\n",
              "    </tr>\n",
              "    <tr>\n",
              "      <th>228</th>\n",
              "      <td>2020-11-22 23:00</td>\n",
              "      <td>6.198013</td>\n",
              "      <td>65.6</td>\n",
              "      <td>975.4</td>\n",
              "      <td>3.1</td>\n",
              "      <td>NAN</td>\n",
              "    </tr>\n",
              "    <tr>\n",
              "      <th>2996</th>\n",
              "      <td>2021-04-06 23:00</td>\n",
              "      <td>10.300770</td>\n",
              "      <td>55.2</td>\n",
              "      <td>973</td>\n",
              "      <td>0.6</td>\n",
              "      <td>0</td>\n",
              "    </tr>\n",
              "  </tbody>\n",
              "</table>\n",
              "<p>1018 rows × 6 columns</p>\n",
              "</div>"
            ],
            "text/plain": [
              "                  수집일시       노면온도    습도     기압   풍속   6시간누적강수량\n",
              "1664  2021-02-10 11:00   3.936000    58  977.1  2.6          0\n",
              "913   2020-12-21 12:00   4.416623  40.9  980.1  3.2          0\n",
              "2576  2021-03-20 11:00   9.609576  74.3  966.3  0.3  0.4399998\n",
              "255    2020-11-24 2:00   1.003157  71.1  979.7  0.8          0\n",
              "2045   2021-02-26 8:00  -1.054753  70.2  976.8  0.9          0\n",
              "...                ...        ...   ...    ...  ...        ...\n",
              "32    2020-11-14 19:00  13.146360  50.7    982  1.5          0\n",
              "199   2020-11-21 18:00   9.715533  61.3  976.4  2.2          0\n",
              "1396   2021-01-30 7:00  -5.559608  52.7  975.8  0.4          0\n",
              "228   2020-11-22 23:00   6.198013  65.6  975.4  3.1        NAN\n",
              "2996  2021-04-06 23:00  10.300770  55.2    973  0.6          0\n",
              "\n",
              "[1018 rows x 6 columns]"
            ]
          },
          "metadata": {
            "tags": []
          },
          "execution_count": 24
        }
      ]
    },
    {
      "cell_type": "code",
      "metadata": {
        "colab": {
          "base_uri": "https://localhost:8080/"
        },
        "id": "CyhTS_ZgBELR",
        "outputId": "4053ed58-e3ae-4cf6-8301-c60690a20e4c"
      },
      "source": [
        "y_test"
      ],
      "execution_count": null,
      "outputs": [
        {
          "output_type": "execute_result",
          "data": {
            "text/plain": [
              "1664               Dry\n",
              "913     Chemically wet\n",
              "2576               Wet\n",
              "255                Dry\n",
              "2045               Dry\n",
              "             ...      \n",
              "32                Damp\n",
              "199               Damp\n",
              "1396               Dry\n",
              "228                Dry\n",
              "2996              Damp\n",
              "Name: 노면상태, Length: 1018, dtype: object"
            ]
          },
          "metadata": {
            "tags": []
          },
          "execution_count": 25
        }
      ]
    },
    {
      "cell_type": "code",
      "metadata": {
        "id": "MeK32hWeCHWg"
      },
      "source": [
        ""
      ],
      "execution_count": null,
      "outputs": []
    }
  ]
}