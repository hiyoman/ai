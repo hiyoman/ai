{
  "nbformat": 4,
  "nbformat_minor": 0,
  "metadata": {
    "kernelspec": {
      "display_name": "Python 3",
      "language": "python",
      "name": "python3"
    },
    "language_info": {
      "codemirror_mode": {
        "name": "ipython",
        "version": 3
      },
      "file_extension": ".py",
      "mimetype": "text/x-python",
      "name": "python",
      "nbconvert_exporter": "python",
      "pygments_lexer": "ipython3",
      "version": "3.7.6"
    },
    "colab": {
      "name": "Untitled.ipynb",
      "provenance": [],
      "include_colab_link": true
    }
  },
  "cells": [
    {
      "cell_type": "markdown",
      "metadata": {
        "id": "view-in-github",
        "colab_type": "text"
      },
      "source": [
        "<a href=\"https://colab.research.google.com/github/hiyoman/ai/blob/main/Untitled.ipynb\" target=\"_parent\"><img src=\"https://colab.research.google.com/assets/colab-badge.svg\" alt=\"Open In Colab\"/></a>"
      ]
    },
    {
      "cell_type": "code",
      "metadata": {
        "id": "neX7nASGOf5e"
      },
      "source": [
        "# 라이브러리 사전등록\n",
        "import pandas as pd\n",
        "import os\n",
        "import glob\n",
        "import matplotlib.pyplot as plt\n",
        "from matplotlib import font_manager, rc\n",
        "import seaborn as sns\n",
        "import csv\n",
        "from collections import Counter"
      ],
      "execution_count": null,
      "outputs": []
    },
    {
      "cell_type": "code",
      "metadata": {
        "id": "FDnl89nyOf5j"
      },
      "source": [
        "# 데이터 불러오기 및 정보확인\n",
        "#data = pd.read_csv('black_ice.csv', thousands = ',', encoding='cp949')\n",
        "#data = pd.read_csv('black_ice_processed.csv', thousands = ',', encoding='cp949')\n",
        "#data = pd.read_csv('중앙선_죽령터널(노면온도).csv', thousands = ',', encoding='cp949')\n",
        "data = pd.read_csv('중앙선_죽령터널(노면온도)_rm_NAN.csv', thousands = ',', encoding='cp949')"
      ],
      "execution_count": null,
      "outputs": []
    },
    {
      "cell_type": "code",
      "metadata": {
        "id": "yRSE1QpBOf5k",
        "outputId": "866ebe2b-6dd6-4ea4-8314-4124ec1f8ea6"
      },
      "source": [
        "data.info()"
      ],
      "execution_count": null,
      "outputs": [
        {
          "name": "stdout",
          "output_type": "stream",
          "text": [
            "<class 'pandas.core.frame.DataFrame'>\n",
            "RangeIndex: 3253 entries, 0 to 3252\n",
            "Data columns (total 13 columns):\n",
            " #   Column      Non-Null Count  Dtype  \n",
            "---  ------      --------------  -----  \n",
            " 0   노선          3253 non-null   object \n",
            " 1   위치          3253 non-null   int64  \n",
            " 2   수집일시        3253 non-null   object \n",
            " 3   노면온도        3253 non-null   float64\n",
            " 4   대기온도        3253 non-null   float64\n",
            " 5   노면대기_온도차    3253 non-null   float64\n",
            " 6   습도          3253 non-null   float64\n",
            " 7   기압          3253 non-null   float64\n",
            " 8   풍속          3253 non-null   float64\n",
            " 9   시간강수량       3253 non-null   float64\n",
            " 10  6시간누적강수량    3253 non-null   float64\n",
            " 11  노면상태        3253 non-null   object \n",
            " 12  도로살얼음실시간경보  3253 non-null   object \n",
            "dtypes: float64(8), int64(1), object(4)\n",
            "memory usage: 330.5+ KB\n"
          ]
        }
      ]
    },
    {
      "cell_type": "code",
      "metadata": {
        "id": "SaSD-cMnOf5m",
        "outputId": "619b1225-c088-46ad-f04f-5d87c399450d"
      },
      "source": [
        "print(len(data.index))"
      ],
      "execution_count": null,
      "outputs": [
        {
          "name": "stdout",
          "output_type": "stream",
          "text": [
            "3253\n"
          ]
        }
      ]
    },
    {
      "cell_type": "code",
      "metadata": {
        "id": "4akruejhOf5o"
      },
      "source": [
        "window_size = 5\n",
        "new_data = pd.DataFrame(index = range(0, len(data.index) - window_size + 1), \n",
        "                        columns = ['노선', '위치', '수집일시', '노면온도1', '노면온도2', '노면온도3', '노면온도4', '노면온도5',\n",
        "                                   '대기온도1', '대기온도2', '대기온도3', '대기온도4', '대기온도5',\n",
        "                                   '습도1', '습도2', '습도3', '습도4', '습도5', '기압', '풍속', '시간강수량', '6시간누적강수량',\n",
        "                                   '5시간평균노면온도', '5시간평균대기온도', '노면대기온도차', '5시간평균노면대기온도차', '노면상태'])"
      ],
      "execution_count": null,
      "outputs": []
    },
    {
      "cell_type": "code",
      "metadata": {
        "id": "FKkq8NjDOf5p"
      },
      "source": [
        "new_index = 0\n",
        "for index in range(1, len(data.index)):\n",
        "#    print(index, new_index)\n",
        "    if index < 5:\n",
        "        continue\n",
        "    \n",
        "    new_data['노선'][new_index] = data['노선'][index]\n",
        "    new_data['위치'][new_index] = data['위치'][index]\n",
        "    new_data['수집일시'][new_index] = data['수집일시'][index]\n",
        "    \n",
        "    new_data['노면온도1'][new_index] = data['노면온도'][index]     # 5 - 5 = 0\n",
        "    new_data['노면온도2'][new_index] = data['노면온도'][index - 1] # 5 - 5 + 1 = 1\n",
        "    new_data['노면온도3'][new_index] = data['노면온도'][index - 2] # 5 - 5 + 2 = 2\n",
        "    new_data['노면온도4'][new_index] = data['노면온도'][index - 3] # 5 - 5 + 3 = 3\n",
        "    new_data['노면온도5'][new_index] = data['노면온도'][index - 4] # 5 - 5 + 4 = 4\n",
        "    new_data['5시간평균노면온도'][new_index] = (new_data['노면온도5'][new_index] + \n",
        "                                               new_data['노면온도4'][new_index] +\n",
        "                                               new_data['노면온도3'][new_index] + \n",
        "                                               new_data['노면온도2'][new_index] + \n",
        "                                               new_data['노면온도1'][new_index]) / 5\n",
        "                    \n",
        "    new_data['대기온도1'][new_index] = data['대기온도'][index]\n",
        "    new_data['대기온도2'][new_index] = data['대기온도'][index - 1]\n",
        "    new_data['대기온도3'][new_index] = data['대기온도'][index - 2]\n",
        "    new_data['대기온도4'][new_index] = data['대기온도'][index - 3]\n",
        "    new_data['대기온도5'][new_index] = data['대기온도'][index - 4]\n",
        "    new_data['5시간평균대기온도'][new_index] = (new_data['대기온도5'][new_index] + \n",
        "                                               new_data['대기온도4'][new_index] +\n",
        "                                               new_data['대기온도3'][new_index] + \n",
        "                                               new_data['대기온도2'][new_index] + \n",
        "                                               new_data['대기온도1'][new_index]) / 5\n",
        "\n",
        "    \n",
        "    new_data['습도1'][new_index] = data['습도'][index]\n",
        "    new_data['습도2'][new_index] = data['습도'][index - 1]\n",
        "    new_data['습도3'][new_index] = data['습도'][index - 2]\n",
        "    new_data['습도4'][new_index] = data['습도'][index - 3]\n",
        "    new_data['습도5'][new_index] = data['습도'][index - 4]\n",
        "    \n",
        "    new_data['노면대기온도차'][new_index] = new_data['노면온도1'][new_index] - new_data['대기온도1'][new_index]\n",
        "    new_data['5시간평균노면대기온도차'][new_index] = new_data['5시간평균노면온도'][new_index] - new_data['5시간평균대기온도'][new_index]\n",
        "    \n",
        "    new_data['기압'][new_index] = data['기압'][index]\n",
        "    new_data['풍속'][new_index] = data['풍속'][index]\n",
        "    new_data['시간강수량'][new_index] = data['시간강수량'][index]\n",
        "    new_data['6시간누적강수량'][new_index] = data['6시간누적강수량'][index]\n",
        "    new_data['노면상태'][new_index] = data['노면상태'][index]\n",
        "    \n",
        "    new_index = new_index + 1"
      ],
      "execution_count": null,
      "outputs": []
    },
    {
      "cell_type": "code",
      "metadata": {
        "id": "urKxCjIuOf5r",
        "outputId": "94aedbdc-fc67-4a4a-c1c8-73b335a27ea6"
      },
      "source": [
        "new_data.info()\n",
        "new_data.head(10)"
      ],
      "execution_count": null,
      "outputs": [
        {
          "name": "stdout",
          "output_type": "stream",
          "text": [
            "<class 'pandas.core.frame.DataFrame'>\n",
            "RangeIndex: 3249 entries, 0 to 3248\n",
            "Data columns (total 27 columns):\n",
            " #   Column        Non-Null Count  Dtype \n",
            "---  ------        --------------  ----- \n",
            " 0   노선            3248 non-null   object\n",
            " 1   위치            3248 non-null   object\n",
            " 2   수집일시          3248 non-null   object\n",
            " 3   노면온도1         3248 non-null   object\n",
            " 4   노면온도2         3248 non-null   object\n",
            " 5   노면온도3         3248 non-null   object\n",
            " 6   노면온도4         3248 non-null   object\n",
            " 7   노면온도5         3248 non-null   object\n",
            " 8   대기온도1         3248 non-null   object\n",
            " 9   대기온도2         3248 non-null   object\n",
            " 10  대기온도3         3248 non-null   object\n",
            " 11  대기온도4         3248 non-null   object\n",
            " 12  대기온도5         3248 non-null   object\n",
            " 13  습도1           3248 non-null   object\n",
            " 14  습도2           3248 non-null   object\n",
            " 15  습도3           3248 non-null   object\n",
            " 16  습도4           3248 non-null   object\n",
            " 17  습도5           3248 non-null   object\n",
            " 18  기압            3248 non-null   object\n",
            " 19  풍속            3248 non-null   object\n",
            " 20  시간강수량         3248 non-null   object\n",
            " 21  6시간누적강수량      3248 non-null   object\n",
            " 22  5시간평균노면온도     3248 non-null   object\n",
            " 23  5시간평균대기온도     3248 non-null   object\n",
            " 24  노면대기온도차       3248 non-null   object\n",
            " 25  5시간평균노면대기온도차  3248 non-null   object\n",
            " 26  노면상태          3248 non-null   object\n",
            "dtypes: object(27)\n",
            "memory usage: 685.5+ KB\n"
          ]
        },
        {
          "data": {
            "text/html": [
              "<div>\n",
              "<style scoped>\n",
              "    .dataframe tbody tr th:only-of-type {\n",
              "        vertical-align: middle;\n",
              "    }\n",
              "\n",
              "    .dataframe tbody tr th {\n",
              "        vertical-align: top;\n",
              "    }\n",
              "\n",
              "    .dataframe thead th {\n",
              "        text-align: right;\n",
              "    }\n",
              "</style>\n",
              "<table border=\"1\" class=\"dataframe\">\n",
              "  <thead>\n",
              "    <tr style=\"text-align: right;\">\n",
              "      <th></th>\n",
              "      <th>노선</th>\n",
              "      <th>위치</th>\n",
              "      <th>수집일시</th>\n",
              "      <th>노면온도1</th>\n",
              "      <th>노면온도2</th>\n",
              "      <th>노면온도3</th>\n",
              "      <th>노면온도4</th>\n",
              "      <th>노면온도5</th>\n",
              "      <th>대기온도1</th>\n",
              "      <th>대기온도2</th>\n",
              "      <th>...</th>\n",
              "      <th>습도5</th>\n",
              "      <th>기압</th>\n",
              "      <th>풍속</th>\n",
              "      <th>시간강수량</th>\n",
              "      <th>6시간누적강수량</th>\n",
              "      <th>5시간평균노면온도</th>\n",
              "      <th>5시간평균대기온도</th>\n",
              "      <th>노면대기온도차</th>\n",
              "      <th>5시간평균노면대기온도차</th>\n",
              "      <th>노면상태</th>\n",
              "    </tr>\n",
              "  </thead>\n",
              "  <tbody>\n",
              "    <tr>\n",
              "      <th>0</th>\n",
              "      <td>중앙선</td>\n",
              "      <td>238</td>\n",
              "      <td>2020-11-13 16:00</td>\n",
              "      <td>18.6615</td>\n",
              "      <td>22.1659</td>\n",
              "      <td>23.2243</td>\n",
              "      <td>22.1719</td>\n",
              "      <td>19.2304</td>\n",
              "      <td>13.8</td>\n",
              "      <td>14.6</td>\n",
              "      <td>...</td>\n",
              "      <td>43</td>\n",
              "      <td>979.8</td>\n",
              "      <td>1.2</td>\n",
              "      <td>0</td>\n",
              "      <td>0</td>\n",
              "      <td>21.0908</td>\n",
              "      <td>13.92</td>\n",
              "      <td>4.86147</td>\n",
              "      <td>7.1708</td>\n",
              "      <td>Dry</td>\n",
              "    </tr>\n",
              "    <tr>\n",
              "      <th>1</th>\n",
              "      <td>중앙선</td>\n",
              "      <td>238</td>\n",
              "      <td>2020-11-13 17:00</td>\n",
              "      <td>14.6081</td>\n",
              "      <td>18.6615</td>\n",
              "      <td>22.1659</td>\n",
              "      <td>23.2243</td>\n",
              "      <td>22.1719</td>\n",
              "      <td>10.7</td>\n",
              "      <td>13.8</td>\n",
              "      <td>...</td>\n",
              "      <td>44.2</td>\n",
              "      <td>980.1</td>\n",
              "      <td>0.8</td>\n",
              "      <td>0</td>\n",
              "      <td>0</td>\n",
              "      <td>20.1663</td>\n",
              "      <td>13.46</td>\n",
              "      <td>3.90809</td>\n",
              "      <td>6.70634</td>\n",
              "      <td>Dry</td>\n",
              "    </tr>\n",
              "    <tr>\n",
              "      <th>2</th>\n",
              "      <td>중앙선</td>\n",
              "      <td>238</td>\n",
              "      <td>2020-11-13 18:00</td>\n",
              "      <td>11.8782</td>\n",
              "      <td>14.6081</td>\n",
              "      <td>18.6615</td>\n",
              "      <td>22.1659</td>\n",
              "      <td>23.2243</td>\n",
              "      <td>8.5</td>\n",
              "      <td>10.7</td>\n",
              "      <td>...</td>\n",
              "      <td>42.3</td>\n",
              "      <td>980.7</td>\n",
              "      <td>1.5</td>\n",
              "      <td>0</td>\n",
              "      <td>0</td>\n",
              "      <td>18.1076</td>\n",
              "      <td>12.4</td>\n",
              "      <td>3.37821</td>\n",
              "      <td>5.7076</td>\n",
              "      <td>Dry</td>\n",
              "    </tr>\n",
              "    <tr>\n",
              "      <th>3</th>\n",
              "      <td>중앙선</td>\n",
              "      <td>238</td>\n",
              "      <td>2020-11-13 19:00</td>\n",
              "      <td>10.3225</td>\n",
              "      <td>11.8782</td>\n",
              "      <td>14.6081</td>\n",
              "      <td>18.6615</td>\n",
              "      <td>22.1659</td>\n",
              "      <td>7.7</td>\n",
              "      <td>8.5</td>\n",
              "      <td>...</td>\n",
              "      <td>43.9</td>\n",
              "      <td>981.2</td>\n",
              "      <td>0.4</td>\n",
              "      <td>0</td>\n",
              "      <td>0</td>\n",
              "      <td>15.5272</td>\n",
              "      <td>11.06</td>\n",
              "      <td>2.6225</td>\n",
              "      <td>4.46723</td>\n",
              "      <td>Dry</td>\n",
              "    </tr>\n",
              "    <tr>\n",
              "      <th>4</th>\n",
              "      <td>중앙선</td>\n",
              "      <td>238</td>\n",
              "      <td>2020-11-13 20:00</td>\n",
              "      <td>9.30267</td>\n",
              "      <td>10.3225</td>\n",
              "      <td>11.8782</td>\n",
              "      <td>14.6081</td>\n",
              "      <td>18.6615</td>\n",
              "      <td>7.1</td>\n",
              "      <td>7.7</td>\n",
              "      <td>...</td>\n",
              "      <td>46.3</td>\n",
              "      <td>981.6</td>\n",
              "      <td>1.2</td>\n",
              "      <td>0</td>\n",
              "      <td>0</td>\n",
              "      <td>12.9546</td>\n",
              "      <td>9.56</td>\n",
              "      <td>2.20267</td>\n",
              "      <td>3.39459</td>\n",
              "      <td>Dry</td>\n",
              "    </tr>\n",
              "    <tr>\n",
              "      <th>5</th>\n",
              "      <td>중앙선</td>\n",
              "      <td>238</td>\n",
              "      <td>2020-11-13 21:00</td>\n",
              "      <td>8.32437</td>\n",
              "      <td>9.30267</td>\n",
              "      <td>10.3225</td>\n",
              "      <td>11.8782</td>\n",
              "      <td>14.6081</td>\n",
              "      <td>6.9</td>\n",
              "      <td>7.1</td>\n",
              "      <td>...</td>\n",
              "      <td>54.6</td>\n",
              "      <td>981.8</td>\n",
              "      <td>1</td>\n",
              "      <td>0</td>\n",
              "      <td>0</td>\n",
              "      <td>10.8872</td>\n",
              "      <td>8.18</td>\n",
              "      <td>1.42437</td>\n",
              "      <td>2.70717</td>\n",
              "      <td>Damp</td>\n",
              "    </tr>\n",
              "    <tr>\n",
              "      <th>6</th>\n",
              "      <td>중앙선</td>\n",
              "      <td>238</td>\n",
              "      <td>2020-11-13 22:00</td>\n",
              "      <td>7.8663</td>\n",
              "      <td>8.32437</td>\n",
              "      <td>9.30267</td>\n",
              "      <td>10.3225</td>\n",
              "      <td>11.8782</td>\n",
              "      <td>7</td>\n",
              "      <td>6.9</td>\n",
              "      <td>...</td>\n",
              "      <td>60.8</td>\n",
              "      <td>982.1</td>\n",
              "      <td>1.3</td>\n",
              "      <td>0</td>\n",
              "      <td>0</td>\n",
              "      <td>9.53881</td>\n",
              "      <td>7.44</td>\n",
              "      <td>0.866301</td>\n",
              "      <td>2.09881</td>\n",
              "      <td>Damp</td>\n",
              "    </tr>\n",
              "    <tr>\n",
              "      <th>7</th>\n",
              "      <td>중앙선</td>\n",
              "      <td>238</td>\n",
              "      <td>2020-11-13 23:00</td>\n",
              "      <td>7.24094</td>\n",
              "      <td>7.8663</td>\n",
              "      <td>8.32437</td>\n",
              "      <td>9.30267</td>\n",
              "      <td>10.3225</td>\n",
              "      <td>7</td>\n",
              "      <td>7</td>\n",
              "      <td>...</td>\n",
              "      <td>63.6</td>\n",
              "      <td>982.4</td>\n",
              "      <td>0.5</td>\n",
              "      <td>0</td>\n",
              "      <td>0</td>\n",
              "      <td>8.61136</td>\n",
              "      <td>7.14</td>\n",
              "      <td>0.240941</td>\n",
              "      <td>1.47136</td>\n",
              "      <td>Damp</td>\n",
              "    </tr>\n",
              "    <tr>\n",
              "      <th>8</th>\n",
              "      <td>중앙선</td>\n",
              "      <td>238</td>\n",
              "      <td>2020-11-14 0:00</td>\n",
              "      <td>6.84532</td>\n",
              "      <td>7.24094</td>\n",
              "      <td>7.8663</td>\n",
              "      <td>8.32437</td>\n",
              "      <td>9.30267</td>\n",
              "      <td>7.2</td>\n",
              "      <td>7</td>\n",
              "      <td>...</td>\n",
              "      <td>65.9</td>\n",
              "      <td>982.3</td>\n",
              "      <td>0.8</td>\n",
              "      <td>0</td>\n",
              "      <td>0</td>\n",
              "      <td>7.91592</td>\n",
              "      <td>7.04</td>\n",
              "      <td>-0.35468</td>\n",
              "      <td>0.87592</td>\n",
              "      <td>Damp</td>\n",
              "    </tr>\n",
              "    <tr>\n",
              "      <th>9</th>\n",
              "      <td>중앙선</td>\n",
              "      <td>238</td>\n",
              "      <td>2020-11-14 1:00</td>\n",
              "      <td>6.3912</td>\n",
              "      <td>6.84532</td>\n",
              "      <td>7.24094</td>\n",
              "      <td>7.8663</td>\n",
              "      <td>8.32437</td>\n",
              "      <td>6.7</td>\n",
              "      <td>7.2</td>\n",
              "      <td>...</td>\n",
              "      <td>66.5</td>\n",
              "      <td>982.3</td>\n",
              "      <td>1</td>\n",
              "      <td>0</td>\n",
              "      <td>0</td>\n",
              "      <td>7.33363</td>\n",
              "      <td>6.96</td>\n",
              "      <td>-0.308797</td>\n",
              "      <td>0.373627</td>\n",
              "      <td>Damp</td>\n",
              "    </tr>\n",
              "  </tbody>\n",
              "</table>\n",
              "<p>10 rows × 27 columns</p>\n",
              "</div>"
            ],
            "text/plain": [
              "    노선   위치              수집일시    노면온도1    노면온도2    노면온도3    노면온도4    노면온도5  \\\n",
              "0  중앙선  238  2020-11-13 16:00  18.6615  22.1659  23.2243  22.1719  19.2304   \n",
              "1  중앙선  238  2020-11-13 17:00  14.6081  18.6615  22.1659  23.2243  22.1719   \n",
              "2  중앙선  238  2020-11-13 18:00  11.8782  14.6081  18.6615  22.1659  23.2243   \n",
              "3  중앙선  238  2020-11-13 19:00  10.3225  11.8782  14.6081  18.6615  22.1659   \n",
              "4  중앙선  238  2020-11-13 20:00  9.30267  10.3225  11.8782  14.6081  18.6615   \n",
              "5  중앙선  238  2020-11-13 21:00  8.32437  9.30267  10.3225  11.8782  14.6081   \n",
              "6  중앙선  238  2020-11-13 22:00   7.8663  8.32437  9.30267  10.3225  11.8782   \n",
              "7  중앙선  238  2020-11-13 23:00  7.24094   7.8663  8.32437  9.30267  10.3225   \n",
              "8  중앙선  238   2020-11-14 0:00  6.84532  7.24094   7.8663  8.32437  9.30267   \n",
              "9  중앙선  238   2020-11-14 1:00   6.3912  6.84532  7.24094   7.8663  8.32437   \n",
              "\n",
              "  대기온도1 대기온도2  ...   습도5     기압   풍속 시간강수량 6시간누적강수량 5시간평균노면온도 5시간평균대기온도  \\\n",
              "0  13.8  14.6  ...    43  979.8  1.2     0        0   21.0908     13.92   \n",
              "1  10.7  13.8  ...  44.2  980.1  0.8     0        0   20.1663     13.46   \n",
              "2   8.5  10.7  ...  42.3  980.7  1.5     0        0   18.1076      12.4   \n",
              "3   7.7   8.5  ...  43.9  981.2  0.4     0        0   15.5272     11.06   \n",
              "4   7.1   7.7  ...  46.3  981.6  1.2     0        0   12.9546      9.56   \n",
              "5   6.9   7.1  ...  54.6  981.8    1     0        0   10.8872      8.18   \n",
              "6     7   6.9  ...  60.8  982.1  1.3     0        0   9.53881      7.44   \n",
              "7     7     7  ...  63.6  982.4  0.5     0        0   8.61136      7.14   \n",
              "8   7.2     7  ...  65.9  982.3  0.8     0        0   7.91592      7.04   \n",
              "9   6.7   7.2  ...  66.5  982.3    1     0        0   7.33363      6.96   \n",
              "\n",
              "    노면대기온도차 5시간평균노면대기온도차  노면상태  \n",
              "0   4.86147       7.1708   Dry  \n",
              "1   3.90809      6.70634   Dry  \n",
              "2   3.37821       5.7076   Dry  \n",
              "3    2.6225      4.46723   Dry  \n",
              "4   2.20267      3.39459   Dry  \n",
              "5   1.42437      2.70717  Damp  \n",
              "6  0.866301      2.09881  Damp  \n",
              "7  0.240941      1.47136  Damp  \n",
              "8  -0.35468      0.87592  Damp  \n",
              "9 -0.308797     0.373627  Damp  \n",
              "\n",
              "[10 rows x 27 columns]"
            ]
          },
          "execution_count": 53,
          "metadata": {},
          "output_type": "execute_result"
        }
      ]
    },
    {
      "cell_type": "code",
      "metadata": {
        "id": "d9-x4FZdOf5s"
      },
      "source": [
        "new_data.to_csv('C:/Users/Administrator/BlackIceChecker/중앙선_죽령터널(노면온도)_rm_NAN_자동변환.csv', encoding='cp949')"
      ],
      "execution_count": null,
      "outputs": []
    },
    {
      "cell_type": "code",
      "metadata": {
        "id": "hePo46hkOf5t"
      },
      "source": [
        "data = pd.read_csv('중앙선_죽령터널(노면온도)_rm_NAN_자동변환.csv', thousands = ',', encoding='cp949')"
      ],
      "execution_count": null,
      "outputs": []
    },
    {
      "cell_type": "code",
      "metadata": {
        "id": "KzYn_-5MOf5u"
      },
      "source": [
        "def get_date_and_time(text, flag):\n",
        "    text = str(text)\n",
        "    text = text.rstrip()\n",
        "    text = text.lstrip()\n",
        "    my_text = text.split(' ')\n",
        "    \n",
        "    if flag == 0:\n",
        "        return my_text[0]\n",
        "    else:\n",
        "        return my_text[1]"
      ],
      "execution_count": null,
      "outputs": []
    },
    {
      "cell_type": "code",
      "metadata": {
        "id": "k9lrAxE4Of5v"
      },
      "source": [
        "data['date'] = data['수집일시'].apply(lambda x : get_date_and_time(x, 0))\n",
        "data['time'] = data['수집일시'].apply(lambda x : get_date_and_time(x, 1))"
      ],
      "execution_count": null,
      "outputs": []
    },
    {
      "cell_type": "code",
      "metadata": {
        "id": "Q4_jGOyiOf5v"
      },
      "source": [
        "def get_surface_state(text):\n",
        "    text = str(text)\n",
        "    text = text.rstrip()\n",
        "    text = text.lstrip()\n",
        "    \n",
        "    if text == \"Smp\":\n",
        "        return \"no\"\n",
        "    elif text == \"Dry\":\n",
        "        return \"no\"\n",
        "    elif text == \"Damp\":\n",
        "        return \"no\"\n",
        "    elif text == \"Critically wet\":\n",
        "        return \"no\"\n",
        "    elif text == \"Chemically wet\":\n",
        "        return \"yes\"\n",
        "    elif text == \"Snow\":\n",
        "        return \"yes\"\n",
        "    elif text == \"Snow_Ice\":\n",
        "        return \"yes\"\n",
        "    elif text == \"Ice\":\n",
        "        return \"yes\"\n",
        "    else:\n",
        "        return \"no\""
      ],
      "execution_count": null,
      "outputs": []
    },
    {
      "cell_type": "code",
      "metadata": {
        "id": "f-yutGoKOf5w"
      },
      "source": [
        "data['노면상태분류'] = data['노면상태'].apply(lambda x : get_surface_state(x))"
      ],
      "execution_count": null,
      "outputs": []
    },
    {
      "cell_type": "code",
      "metadata": {
        "id": "pjkNBl3yOf5x"
      },
      "source": [
        "data.to_csv('C:/Users/Administrator/BlackIceChecker/중앙선_죽령터널(노면온도)_rm_NAN_자동변환2.csv', encoding='cp949')"
      ],
      "execution_count": null,
      "outputs": []
    },
    {
      "cell_type": "code",
      "metadata": {
        "id": "fQZxPU4fOf5y"
      },
      "source": [
        "from sklearn.metrics import accuracy_score\n",
        "from sklearn.metrics import confusion_matrix\n",
        "from sklearn.model_selection import train_test_split\n",
        "from sklearn.tree import DecisionTreeClassifier\n",
        "from IPython.core.display import Image\n",
        "import pydotplus\n",
        "from sklearn.tree import export_graphviz\n",
        "from sklearn.tree import DecisionTreeClassifier\n",
        "from sklearn.ensemble import RandomForestClassifier\n",
        "from sklearn.neighbors import KNeighborsClassifier\n",
        "from sklearn.linear_model import SGDClassifier"
      ],
      "execution_count": null,
      "outputs": []
    },
    {
      "cell_type": "code",
      "metadata": {
        "id": "WMxyoo6JOf5y",
        "outputId": "28be7844-194f-48dc-ffb3-04061352e50b"
      },
      "source": [
        "data.info()"
      ],
      "execution_count": null,
      "outputs": [
        {
          "name": "stdout",
          "output_type": "stream",
          "text": [
            "<class 'pandas.core.frame.DataFrame'>\n",
            "RangeIndex: 3248 entries, 0 to 3247\n",
            "Data columns (total 31 columns):\n",
            " #   Column        Non-Null Count  Dtype  \n",
            "---  ------        --------------  -----  \n",
            " 0   Unnamed: 0    3248 non-null   int64  \n",
            " 1   노선            3248 non-null   object \n",
            " 2   위치            3248 non-null   int64  \n",
            " 3   수집일시          3248 non-null   object \n",
            " 4   노면온도1         3248 non-null   float64\n",
            " 5   노면온도2         3248 non-null   float64\n",
            " 6   노면온도3         3248 non-null   float64\n",
            " 7   노면온도4         3248 non-null   float64\n",
            " 8   노면온도5         3248 non-null   float64\n",
            " 9   대기온도1         3248 non-null   float64\n",
            " 10  대기온도2         3248 non-null   float64\n",
            " 11  대기온도3         3248 non-null   float64\n",
            " 12  대기온도4         3248 non-null   float64\n",
            " 13  대기온도5         3248 non-null   float64\n",
            " 14  습도1           3248 non-null   float64\n",
            " 15  습도2           3248 non-null   float64\n",
            " 16  습도3           3248 non-null   float64\n",
            " 17  습도4           3248 non-null   float64\n",
            " 18  습도5           3248 non-null   float64\n",
            " 19  기압            3248 non-null   float64\n",
            " 20  풍속            3248 non-null   float64\n",
            " 21  시간강수량         3248 non-null   float64\n",
            " 22  6시간누적강수량      3248 non-null   float64\n",
            " 23  5시간평균노면온도     3248 non-null   float64\n",
            " 24  5시간평균대기온도     3248 non-null   float64\n",
            " 25  노면대기온도차       3248 non-null   float64\n",
            " 26  5시간평균노면대기온도차  3248 non-null   float64\n",
            " 27  노면상태          3248 non-null   object \n",
            " 28  date          3248 non-null   object \n",
            " 29  time          3248 non-null   object \n",
            " 30  노면상태분류        3248 non-null   object \n",
            "dtypes: float64(23), int64(2), object(6)\n",
            "memory usage: 786.8+ KB\n"
          ]
        }
      ]
    },
    {
      "cell_type": "code",
      "metadata": {
        "id": "fj3FiVUcOf5z"
      },
      "source": [
        "x = data.iloc[:, 4:27]\n",
        "y = data.iloc[:, 30]     # 목표변수(위험운전행동등급)"
      ],
      "execution_count": null,
      "outputs": []
    },
    {
      "cell_type": "code",
      "metadata": {
        "id": "a32MMx4JOf5z",
        "outputId": "62a47913-2882-470b-9a2b-40dd16807832"
      },
      "source": [
        "# 분포확인\n",
        "x.info()\n",
        "y.value_counts()"
      ],
      "execution_count": null,
      "outputs": [
        {
          "name": "stdout",
          "output_type": "stream",
          "text": [
            "<class 'pandas.core.frame.DataFrame'>\n",
            "RangeIndex: 3248 entries, 0 to 3247\n",
            "Data columns (total 23 columns):\n",
            " #   Column        Non-Null Count  Dtype  \n",
            "---  ------        --------------  -----  \n",
            " 0   노면온도1         3248 non-null   float64\n",
            " 1   노면온도2         3248 non-null   float64\n",
            " 2   노면온도3         3248 non-null   float64\n",
            " 3   노면온도4         3248 non-null   float64\n",
            " 4   노면온도5         3248 non-null   float64\n",
            " 5   대기온도1         3248 non-null   float64\n",
            " 6   대기온도2         3248 non-null   float64\n",
            " 7   대기온도3         3248 non-null   float64\n",
            " 8   대기온도4         3248 non-null   float64\n",
            " 9   대기온도5         3248 non-null   float64\n",
            " 10  습도1           3248 non-null   float64\n",
            " 11  습도2           3248 non-null   float64\n",
            " 12  습도3           3248 non-null   float64\n",
            " 13  습도4           3248 non-null   float64\n",
            " 14  습도5           3248 non-null   float64\n",
            " 15  기압            3248 non-null   float64\n",
            " 16  풍속            3248 non-null   float64\n",
            " 17  시간강수량         3248 non-null   float64\n",
            " 18  6시간누적강수량      3248 non-null   float64\n",
            " 19  5시간평균노면온도     3248 non-null   float64\n",
            " 20  5시간평균대기온도     3248 non-null   float64\n",
            " 21  노면대기온도차       3248 non-null   float64\n",
            " 22  5시간평균노면대기온도차  3248 non-null   float64\n",
            "dtypes: float64(23)\n",
            "memory usage: 583.8 KB\n"
          ]
        },
        {
          "data": {
            "text/plain": [
              "no     2988\n",
              "yes     260\n",
              "Name: 노면상태분류, dtype: int64"
            ]
          },
          "execution_count": 68,
          "metadata": {},
          "output_type": "execute_result"
        }
      ]
    },
    {
      "cell_type": "code",
      "metadata": {
        "id": "x7IcCmxxOf5z",
        "outputId": "24b508b1-df0b-462f-bd6b-e4fb853a906e"
      },
      "source": [
        "# 데이터셋 나누고 레이블 분포확인\n",
        "x_train, x_test, y_tain, y_test = train_test_split(x, y, test_size=0.40)\n",
        "print(Counter(y_tain))\n",
        "print(Counter(y_test))"
      ],
      "execution_count": null,
      "outputs": [
        {
          "name": "stdout",
          "output_type": "stream",
          "text": [
            "Counter({'no': 1793, 'yes': 155})\n",
            "Counter({'no': 1195, 'yes': 105})\n"
          ]
        }
      ]
    },
    {
      "cell_type": "code",
      "metadata": {
        "id": "YcGrwGW5Of50",
        "outputId": "8f8b845f-d6a2-46a6-9bd9-375fbd5fcbca"
      },
      "source": [
        "# 의사결정트리만들기\n",
        "model = DecisionTreeClassifier(criterion='entropy', max_depth = 9)\n",
        "model"
      ],
      "execution_count": null,
      "outputs": [
        {
          "data": {
            "text/plain": [
              "DecisionTreeClassifier(ccp_alpha=0.0, class_weight=None, criterion='entropy',\n",
              "                       max_depth=9, max_features=None, max_leaf_nodes=None,\n",
              "                       min_impurity_decrease=0.0, min_impurity_split=None,\n",
              "                       min_samples_leaf=1, min_samples_split=2,\n",
              "                       min_weight_fraction_leaf=0.0, presort='deprecated',\n",
              "                       random_state=None, splitter='best')"
            ]
          },
          "execution_count": 139,
          "metadata": {},
          "output_type": "execute_result"
        }
      ]
    },
    {
      "cell_type": "code",
      "metadata": {
        "id": "SRWzBuLeOf50",
        "outputId": "6f41d251-c2f1-44e3-be23-7c8b3dc7a1d6"
      },
      "source": [
        "# 모델학습\n",
        "model.fit(x_train, y_tain)"
      ],
      "execution_count": null,
      "outputs": [
        {
          "data": {
            "text/plain": [
              "DecisionTreeClassifier(ccp_alpha=0.0, class_weight=None, criterion='entropy',\n",
              "                       max_depth=9, max_features=None, max_leaf_nodes=None,\n",
              "                       min_impurity_decrease=0.0, min_impurity_split=None,\n",
              "                       min_samples_leaf=1, min_samples_split=2,\n",
              "                       min_weight_fraction_leaf=0.0, presort='deprecated',\n",
              "                       random_state=None, splitter='best')"
            ]
          },
          "execution_count": 140,
          "metadata": {},
          "output_type": "execute_result"
        }
      ]
    },
    {
      "cell_type": "code",
      "metadata": {
        "id": "OhgJYUt5Of51"
      },
      "source": [
        "# 예측: 테스트데이터 대상 레이블\n",
        "y_pred = model.predict(x_test)"
      ],
      "execution_count": null,
      "outputs": []
    },
    {
      "cell_type": "code",
      "metadata": {
        "id": "Nclnn9EdOf51",
        "outputId": "4d6c27fd-038d-4a81-e80d-40b0189033c8"
      },
      "source": [
        "# 정확도 계산\n",
        "accuracy = accuracy_score(y_test, y_pred)\n",
        "print(f'Mean accuracy score: {accuracy:.3}')"
      ],
      "execution_count": null,
      "outputs": [
        {
          "name": "stdout",
          "output_type": "stream",
          "text": [
            "Mean accuracy score: 0.949\n"
          ]
        }
      ]
    },
    {
      "cell_type": "code",
      "metadata": {
        "id": "VR9YQYM2Of52",
        "outputId": "23f52501-2be1-4e16-856c-b57fa15b50ca"
      },
      "source": [
        "matrix = pd.DataFrame(confusion_matrix(y_test, y_pred), columns=model.classes_, index=model.classes_)\n",
        "sns.heatmap(matrix, annot=True)"
      ],
      "execution_count": null,
      "outputs": [
        {
          "data": {
            "text/plain": [
              "<matplotlib.axes._subplots.AxesSubplot at 0x19a8baa2208>"
            ]
          },
          "execution_count": 143,
          "metadata": {},
          "output_type": "execute_result"
        },
        {
          "data": {
            "image/png": "[encoded data removed]",
            "text/plain": [
              "<Figure size 432x288 with 2 Axes>"
            ]
          },
          "metadata": {
            "needs_background": "light"
          },
          "output_type": "display_data"
        }
      ]
    },
    {
      "cell_type": "code",
      "metadata": {
        "id": "54cuePkkOf52",
        "outputId": "df42015e-e04a-4b6d-ebe6-8f0b1b236d96"
      },
      "source": [
        "# 랜덤포리스트 만들기\n",
        "model = RandomForestClassifier(n_estimators=100, oob_score=True, random_state=123456)     #estimators : 결정트리의 갯수를 지정\n",
        "model "
      ],
      "execution_count": null,
      "outputs": [
        {
          "data": {
            "text/plain": [
              "RandomForestClassifier(bootstrap=True, ccp_alpha=0.0, class_weight=None,\n",
              "                       criterion='gini', max_depth=None, max_features='auto',\n",
              "                       max_leaf_nodes=None, max_samples=None,\n",
              "                       min_impurity_decrease=0.0, min_impurity_split=None,\n",
              "                       min_samples_leaf=1, min_samples_split=2,\n",
              "                       min_weight_fraction_leaf=0.0, n_estimators=100,\n",
              "                       n_jobs=None, oob_score=True, random_state=123456,\n",
              "                       verbose=0, warm_start=False)"
            ]
          },
          "execution_count": 146,
          "metadata": {},
          "output_type": "execute_result"
        }
      ]
    },
    {
      "cell_type": "code",
      "metadata": {
        "id": "u7wY1K3nOf52",
        "outputId": "deec9ff9-a687-4e2b-e55e-153428bcd4a6"
      },
      "source": [
        "# 모델학습\n",
        "model.fit(x_train, y_tain)"
      ],
      "execution_count": null,
      "outputs": [
        {
          "data": {
            "text/plain": [
              "RandomForestClassifier(bootstrap=True, ccp_alpha=0.0, class_weight=None,\n",
              "                       criterion='gini', max_depth=None, max_features='auto',\n",
              "                       max_leaf_nodes=None, max_samples=None,\n",
              "                       min_impurity_decrease=0.0, min_impurity_split=None,\n",
              "                       min_samples_leaf=1, min_samples_split=2,\n",
              "                       min_weight_fraction_leaf=0.0, n_estimators=100,\n",
              "                       n_jobs=None, oob_score=True, random_state=123456,\n",
              "                       verbose=0, warm_start=False)"
            ]
          },
          "execution_count": 147,
          "metadata": {},
          "output_type": "execute_result"
        }
      ]
    },
    {
      "cell_type": "code",
      "metadata": {
        "id": "AW69AZteOf53"
      },
      "source": [
        "# 예측: 테스트데이터 대상 레이블\n",
        "y_pred = model.predict(x_test)"
      ],
      "execution_count": null,
      "outputs": []
    },
    {
      "cell_type": "code",
      "metadata": {
        "id": "FxxJqjzBOf53",
        "outputId": "99eaaf31-71b0-4e37-96fe-7ea76735c6f6"
      },
      "source": [
        "# 정확도 계산\n",
        "accuracy = accuracy_score(y_test, y_pred)\n",
        "\n",
        "print(f'Out-of-bag score estimate: {model.oob_score_:.3}')\n",
        "print(f'Mean accuracy score: {accuracy:.3}')"
      ],
      "execution_count": null,
      "outputs": [
        {
          "name": "stdout",
          "output_type": "stream",
          "text": [
            "Out-of-bag score estimate: 0.962\n",
            "Mean accuracy score: 0.959\n"
          ]
        }
      ]
    },
    {
      "cell_type": "code",
      "metadata": {
        "id": "ktGuGcMeOf54",
        "outputId": "b60fe276-a6a5-4f9d-a68b-0b42721fcf6e"
      },
      "source": [
        "matrix = pd.DataFrame(confusion_matrix(y_test, y_pred), columns=model.classes_, index=model.classes_)\n",
        "sns.heatmap(matrix, annot=True)"
      ],
      "execution_count": null,
      "outputs": [
        {
          "data": {
            "text/plain": [
              "<matplotlib.axes._subplots.AxesSubplot at 0x19a8f617348>"
            ]
          },
          "execution_count": 150,
          "metadata": {},
          "output_type": "execute_result"
        },
        {
          "data": {
            "image/png": "[encoded data removed]",
            "text/plain": [
              "<Figure size 432x288 with 2 Axes>"
            ]
          },
          "metadata": {
            "needs_background": "light"
          },
          "output_type": "display_data"
        }
      ]
    }
  ]
}